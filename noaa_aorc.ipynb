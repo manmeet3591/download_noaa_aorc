{
 "cells": [
  {
   "cell_type": "code",
   "execution_count": 70,
   "metadata": {},
   "outputs": [
    {
     "name": "stderr",
     "output_type": "stream",
     "text": [
      "  0%|          | 0/730 [00:00<?, ?it/s]"
     ]
    },
    {
     "name": "stdout",
     "output_type": "stream",
     "text": [
      "20171207\n"
     ]
    },
    {
     "name": "stderr",
     "output_type": "stream",
     "text": [
      "  0%|          | 2/730 [00:00<02:08,  5.68it/s]"
     ]
    },
    {
     "name": "stdout",
     "output_type": "stream",
     "text": [
      "20181220\n"
     ]
    },
    {
     "name": "stderr",
     "output_type": "stream",
     "text": [
      "  1%|          | 4/730 [00:00<02:03,  5.86it/s]"
     ]
    },
    {
     "name": "stdout",
     "output_type": "stream",
     "text": [
      "20180301\n"
     ]
    },
    {
     "name": "stderr",
     "output_type": "stream",
     "text": [
      "  1%|▏         | 10/730 [00:01<01:03, 11.29it/s]"
     ]
    },
    {
     "name": "stdout",
     "output_type": "stream",
     "text": [
      "20181227\n"
     ]
    },
    {
     "name": "stderr",
     "output_type": "stream",
     "text": [
      "  2%|▏         | 13/730 [00:01<01:09, 10.31it/s]"
     ]
    },
    {
     "name": "stdout",
     "output_type": "stream",
     "text": [
      "20180906\n"
     ]
    },
    {
     "name": "stderr",
     "output_type": "stream",
     "text": [
      "  2%|▏         | 15/730 [00:01<01:23,  8.61it/s]"
     ]
    },
    {
     "name": "stdout",
     "output_type": "stream",
     "text": [
      "20180308\n"
     ]
    },
    {
     "name": "stderr",
     "output_type": "stream",
     "text": [
      "  2%|▏         | 16/730 [00:02<01:46,  6.72it/s]"
     ]
    },
    {
     "name": "stdout",
     "output_type": "stream",
     "text": [
      "20180503\n"
     ]
    },
    {
     "name": "stderr",
     "output_type": "stream",
     "text": [
      "  5%|▌         | 39/730 [00:02<00:26, 26.45it/s]"
     ]
    },
    {
     "name": "stdout",
     "output_type": "stream",
     "text": [
      "20181025\n"
     ]
    },
    {
     "name": "stderr",
     "output_type": "stream",
     "text": [
      "  7%|▋         | 53/730 [00:02<00:21, 30.78it/s]"
     ]
    },
    {
     "name": "stdout",
     "output_type": "stream",
     "text": [
      "20171005\n"
     ]
    },
    {
     "name": "stderr",
     "output_type": "stream",
     "text": [
      "  8%|▊         | 57/730 [00:03<00:27, 24.74it/s]"
     ]
    },
    {
     "name": "stdout",
     "output_type": "stream",
     "text": [
      "20180104\n"
     ]
    },
    {
     "name": "stderr",
     "output_type": "stream",
     "text": [
      "  8%|▊         | 61/730 [00:03<00:31, 21.03it/s]"
     ]
    },
    {
     "name": "stdout",
     "output_type": "stream",
     "text": [
      "20190502\n"
     ]
    },
    {
     "name": "stderr",
     "output_type": "stream",
     "text": [
      "  9%|▉         | 64/730 [00:03<00:39, 16.77it/s]"
     ]
    },
    {
     "name": "stdout",
     "output_type": "stream",
     "text": [
      "20190307\n"
     ]
    },
    {
     "name": "stderr",
     "output_type": "stream",
     "text": [
      " 10%|█         | 76/730 [00:04<00:28, 22.66it/s]"
     ]
    },
    {
     "name": "stdout",
     "output_type": "stream",
     "text": [
      "20190103\n"
     ]
    },
    {
     "name": "stderr",
     "output_type": "stream",
     "text": [
      " 12%|█▏        | 87/730 [00:04<00:25, 25.69it/s]"
     ]
    },
    {
     "name": "stdout",
     "output_type": "stream",
     "text": [
      "20190627\n"
     ]
    },
    {
     "name": "stderr",
     "output_type": "stream",
     "text": [
      " 13%|█▎        | 94/730 [00:04<00:26, 24.44it/s]"
     ]
    },
    {
     "name": "stdout",
     "output_type": "stream",
     "text": [
      "20171123\n"
     ]
    },
    {
     "name": "stderr",
     "output_type": "stream",
     "text": [
      " 13%|█▎        | 98/730 [00:05<00:31, 20.37it/s]"
     ]
    },
    {
     "name": "stdout",
     "output_type": "stream",
     "text": [
      "20190620\n"
     ]
    },
    {
     "name": "stderr",
     "output_type": "stream",
     "text": [
      " 14%|█▍        | 101/730 [00:05<00:37, 16.84it/s]"
     ]
    },
    {
     "name": "stdout",
     "output_type": "stream",
     "text": [
      "20190221\n"
     ]
    },
    {
     "name": "stderr",
     "output_type": "stream",
     "text": [
      " 16%|█▌        | 116/730 [00:05<00:24, 24.73it/s]"
     ]
    },
    {
     "name": "stdout",
     "output_type": "stream",
     "text": [
      "20180412\n"
     ]
    },
    {
     "name": "stderr",
     "output_type": "stream",
     "text": [
      " 18%|█▊        | 128/730 [00:06<00:21, 28.16it/s]"
     ]
    },
    {
     "name": "stdout",
     "output_type": "stream",
     "text": [
      "20190228\n"
     ]
    },
    {
     "name": "stderr",
     "output_type": "stream",
     "text": [
      " 18%|█▊        | 135/730 [00:06<00:22, 25.94it/s]"
     ]
    },
    {
     "name": "stdout",
     "output_type": "stream",
     "text": [
      "20180816\n"
     ]
    },
    {
     "name": "stderr",
     "output_type": "stream",
     "text": [
      " 20%|██        | 146/730 [00:06<00:20, 28.01it/s]"
     ]
    },
    {
     "name": "stdout",
     "output_type": "stream",
     "text": [
      "20190425\n"
     ]
    },
    {
     "name": "stderr",
     "output_type": "stream",
     "text": [
      " 20%|██        | 149/730 [00:07<00:26, 22.19it/s]"
     ]
    },
    {
     "name": "stdout",
     "output_type": "stream",
     "text": [
      "20180621\n"
     ]
    },
    {
     "name": "stderr",
     "output_type": "stream",
     "text": [
      " 24%|██▎       | 173/730 [00:07<00:15, 35.73it/s]"
     ]
    },
    {
     "name": "stdout",
     "output_type": "stream",
     "text": [
      "20190829\n"
     ]
    },
    {
     "name": "stderr",
     "output_type": "stream",
     "text": [
      " 24%|██▍       | 177/730 [00:07<00:19, 28.05it/s]"
     ]
    },
    {
     "name": "stdout",
     "output_type": "stream",
     "text": [
      "20180628\n"
     ]
    },
    {
     "name": "stderr",
     "output_type": "stream",
     "text": [
      " 25%|██▍       | 181/730 [00:08<00:23, 22.95it/s]"
     ]
    },
    {
     "name": "stdout",
     "output_type": "stream",
     "text": [
      "20180802\n"
     ]
    },
    {
     "name": "stderr",
     "output_type": "stream",
     "text": [
      " 28%|██▊       | 202/730 [00:08<00:15, 34.23it/s]"
     ]
    },
    {
     "name": "stdout",
     "output_type": "stream",
     "text": [
      "20171109\n"
     ]
    },
    {
     "name": "stderr",
     "output_type": "stream",
     "text": [
      " 28%|██▊       | 206/730 [00:08<00:19, 27.14it/s]"
     ]
    },
    {
     "name": "stdout",
     "output_type": "stream",
     "text": [
      "20181129\n"
     ]
    },
    {
     "name": "stderr",
     "output_type": "stream",
     "text": [
      " 29%|██▊       | 209/730 [00:09<00:23, 21.95it/s]"
     ]
    },
    {
     "name": "stdout",
     "output_type": "stream",
     "text": [
      "20171130\n"
     ]
    },
    {
     "name": "stderr",
     "output_type": "stream",
     "text": [
      " 31%|███       | 223/730 [00:09<00:18, 27.15it/s]"
     ]
    },
    {
     "name": "stdout",
     "output_type": "stream",
     "text": [
      "20190314\n"
     ]
    },
    {
     "name": "stderr",
     "output_type": "stream",
     "text": [
      " 34%|███▍      | 248/730 [00:10<00:11, 40.35it/s]"
     ]
    },
    {
     "name": "stdout",
     "output_type": "stream",
     "text": [
      "20190110\n"
     ]
    },
    {
     "name": "stderr",
     "output_type": "stream",
     "text": [
      " 35%|███▍      | 254/730 [00:10<00:14, 33.33it/s]"
     ]
    },
    {
     "name": "stdout",
     "output_type": "stream",
     "text": [
      "20180712\n"
     ]
    },
    {
     "name": "stderr",
     "output_type": "stream",
     "text": [
      " 35%|███▌      | 258/730 [00:10<00:17, 27.20it/s]"
     ]
    },
    {
     "name": "stdout",
     "output_type": "stream",
     "text": [
      "20190117\n"
     ]
    },
    {
     "name": "stderr",
     "output_type": "stream",
     "text": [
      " 36%|███▌      | 262/730 [00:11<00:21, 21.56it/s]"
     ]
    },
    {
     "name": "stdout",
     "output_type": "stream",
     "text": [
      "20180322\n"
     ]
    },
    {
     "name": "stderr",
     "output_type": "stream",
     "text": [
      " 38%|███▊      | 279/730 [00:11<00:15, 29.75it/s]"
     ]
    },
    {
     "name": "stdout",
     "output_type": "stream",
     "text": [
      "20180913\n"
     ]
    },
    {
     "name": "stderr",
     "output_type": "stream",
     "text": [
      " 39%|███▉      | 284/730 [00:11<00:17, 25.22it/s]"
     ]
    },
    {
     "name": "stdout",
     "output_type": "stream",
     "text": [
      "20190516\n"
     ]
    },
    {
     "name": "stderr",
     "output_type": "stream",
     "text": [
      " 39%|███▉      | 287/730 [00:12<00:21, 20.27it/s]"
     ]
    },
    {
     "name": "stdout",
     "output_type": "stream",
     "text": [
      "20190912\n"
     ]
    },
    {
     "name": "stderr",
     "output_type": "stream",
     "text": [
      " 42%|████▏     | 310/730 [00:12<00:12, 34.02it/s]"
     ]
    },
    {
     "name": "stdout",
     "output_type": "stream",
     "text": [
      "20180517\n"
     ]
    },
    {
     "name": "stderr",
     "output_type": "stream",
     "text": [
      " 44%|████▎     | 318/730 [00:12<00:13, 30.41it/s]"
     ]
    },
    {
     "name": "stdout",
     "output_type": "stream",
     "text": [
      "20180510\n"
     ]
    },
    {
     "name": "stderr",
     "output_type": "stream",
     "text": [
      " 45%|████▍     | 326/730 [00:13<00:14, 28.22it/s]"
     ]
    },
    {
     "name": "stdout",
     "output_type": "stream",
     "text": [
      "20180315\n"
     ]
    },
    {
     "name": "stderr",
     "output_type": "stream",
     "text": [
      " 46%|████▌     | 336/730 [00:13<00:13, 28.58it/s]"
     ]
    },
    {
     "name": "stdout",
     "output_type": "stream",
     "text": [
      "20171019\n",
      "20190725\n"
     ]
    },
    {
     "name": "stderr",
     "output_type": "stream",
     "text": [
      " 46%|████▋     | 339/730 [00:14<00:22, 17.32it/s]"
     ]
    },
    {
     "name": "stdout",
     "output_type": "stream",
     "text": [
      "20180118\n"
     ]
    },
    {
     "name": "stderr",
     "output_type": "stream",
     "text": [
      " 47%|████▋     | 342/730 [00:14<00:26, 14.85it/s]"
     ]
    },
    {
     "name": "stdout",
     "output_type": "stream",
     "text": [
      "20171214\n"
     ]
    },
    {
     "name": "stderr",
     "output_type": "stream",
     "text": [
      " 47%|████▋     | 344/730 [00:14<00:30, 12.56it/s]"
     ]
    },
    {
     "name": "stdout",
     "output_type": "stream",
     "text": [
      "20171026\n",
      "20180111\n"
     ]
    },
    {
     "name": "stderr",
     "output_type": "stream",
     "text": [
      " 47%|████▋     | 346/730 [00:15<00:46,  8.24it/s]"
     ]
    },
    {
     "name": "stdout",
     "output_type": "stream",
     "text": [
      "20190905\n"
     ]
    },
    {
     "name": "stderr",
     "output_type": "stream",
     "text": [
      " 51%|█████     | 370/730 [00:16<00:16, 21.48it/s]"
     ]
    },
    {
     "name": "stdout",
     "output_type": "stream",
     "text": [
      "20180531\n"
     ]
    },
    {
     "name": "stderr",
     "output_type": "stream",
     "text": [
      " 51%|█████     | 373/730 [00:16<00:19, 18.14it/s]"
     ]
    },
    {
     "name": "stdout",
     "output_type": "stream",
     "text": [
      "20181011\n"
     ]
    },
    {
     "name": "stderr",
     "output_type": "stream",
     "text": [
      " 53%|█████▎    | 390/730 [00:16<00:13, 25.13it/s]"
     ]
    },
    {
     "name": "stdout",
     "output_type": "stream",
     "text": [
      "20181018\n"
     ]
    },
    {
     "name": "stderr",
     "output_type": "stream",
     "text": [
      " 54%|█████▍    | 394/730 [00:17<00:15, 21.62it/s]"
     ]
    },
    {
     "name": "stdout",
     "output_type": "stream",
     "text": [
      "20190509\n"
     ]
    },
    {
     "name": "stderr",
     "output_type": "stream",
     "text": [
      " 55%|█████▌    | 402/730 [00:17<00:15, 21.30it/s]"
     ]
    },
    {
     "name": "stdout",
     "output_type": "stream",
     "text": [
      "20190704\n"
     ]
    },
    {
     "name": "stderr",
     "output_type": "stream",
     "text": [
      " 56%|█████▌    | 407/730 [00:17<00:16, 19.42it/s]"
     ]
    },
    {
     "name": "stdout",
     "output_type": "stream",
     "text": [
      "20190131\n"
     ]
    },
    {
     "name": "stderr",
     "output_type": "stream",
     "text": [
      " 56%|█████▌    | 409/730 [00:18<00:20, 15.59it/s]"
     ]
    },
    {
     "name": "stdout",
     "output_type": "stream",
     "text": [
      "20180705\n"
     ]
    },
    {
     "name": "stderr",
     "output_type": "stream",
     "text": [
      " 57%|█████▋    | 418/730 [00:18<00:17, 18.27it/s]"
     ]
    },
    {
     "name": "stdout",
     "output_type": "stream",
     "text": [
      "20181213\n"
     ]
    },
    {
     "name": "stderr",
     "output_type": "stream",
     "text": [
      " 58%|█████▊    | 424/730 [00:18<00:17, 17.94it/s]"
     ]
    },
    {
     "name": "stdout",
     "output_type": "stream",
     "text": [
      "20190530\n"
     ]
    },
    {
     "name": "stderr",
     "output_type": "stream",
     "text": [
      " 59%|█████▉    | 431/730 [00:19<00:16, 18.14it/s]"
     ]
    },
    {
     "name": "stdout",
     "output_type": "stream",
     "text": [
      "20190214\n"
     ]
    },
    {
     "name": "stderr",
     "output_type": "stream",
     "text": [
      " 63%|██████▎   | 459/730 [00:19<00:07, 35.35it/s]"
     ]
    },
    {
     "name": "stdout",
     "output_type": "stream",
     "text": [
      "20190822\n"
     ]
    },
    {
     "name": "stderr",
     "output_type": "stream",
     "text": [
      " 64%|██████▍   | 467/730 [00:20<00:08, 31.30it/s]"
     ]
    },
    {
     "name": "stdout",
     "output_type": "stream",
     "text": [
      "20190411\n"
     ]
    },
    {
     "name": "stderr",
     "output_type": "stream",
     "text": [
      " 65%|██████▍   | 471/730 [00:20<00:10, 25.67it/s]"
     ]
    },
    {
     "name": "stdout",
     "output_type": "stream",
     "text": [
      "20180222\n"
     ]
    },
    {
     "name": "stderr",
     "output_type": "stream",
     "text": [
      " 67%|██████▋   | 486/730 [00:20<00:08, 30.12it/s]"
     ]
    },
    {
     "name": "stdout",
     "output_type": "stream",
     "text": [
      "20171116\n",
      "20190418\n"
     ]
    },
    {
     "name": "stderr",
     "output_type": "stream",
     "text": [
      " 67%|██████▋   | 489/730 [00:21<00:12, 18.70it/s]"
     ]
    },
    {
     "name": "stdout",
     "output_type": "stream",
     "text": [
      "20180614\n"
     ]
    },
    {
     "name": "stderr",
     "output_type": "stream",
     "text": [
      " 70%|██████▉   | 508/730 [00:21<00:08, 27.45it/s]"
     ]
    },
    {
     "name": "stdout",
     "output_type": "stream",
     "text": [
      "20180426\n",
      "20190815\n",
      "20180419\n"
     ]
    },
    {
     "name": "stderr",
     "output_type": "stream",
     "text": [
      " 70%|███████   | 512/730 [00:22<00:14, 15.38it/s]"
     ]
    },
    {
     "name": "stdout",
     "output_type": "stream",
     "text": [
      "20181108\n"
     ]
    },
    {
     "name": "stderr",
     "output_type": "stream",
     "text": [
      " 71%|███████▏  | 521/730 [00:23<00:12, 17.37it/s]"
     ]
    },
    {
     "name": "stdout",
     "output_type": "stream",
     "text": [
      "20190613\n"
     ]
    },
    {
     "name": "stderr",
     "output_type": "stream",
     "text": [
      " 72%|███████▏  | 525/730 [00:23<00:12, 16.01it/s]"
     ]
    },
    {
     "name": "stdout",
     "output_type": "stream",
     "text": [
      "20180215\n"
     ]
    },
    {
     "name": "stderr",
     "output_type": "stream",
     "text": [
      " 72%|███████▏  | 529/730 [00:23<00:13, 14.90it/s]"
     ]
    },
    {
     "name": "stdout",
     "output_type": "stream",
     "text": [
      "20181101\n"
     ]
    },
    {
     "name": "stderr",
     "output_type": "stream",
     "text": [
      " 73%|███████▎  | 531/730 [00:24<00:15, 12.61it/s]"
     ]
    },
    {
     "name": "stdout",
     "output_type": "stream",
     "text": [
      "20180823\n"
     ]
    },
    {
     "name": "stderr",
     "output_type": "stream",
     "text": [
      " 73%|███████▎  | 535/730 [00:24<00:16, 12.03it/s]"
     ]
    },
    {
     "name": "stdout",
     "output_type": "stream",
     "text": [
      "20180208\n"
     ]
    },
    {
     "name": "stderr",
     "output_type": "stream",
     "text": [
      " 75%|███████▍  | 546/730 [00:25<00:10, 17.36it/s]"
     ]
    },
    {
     "name": "stdout",
     "output_type": "stream",
     "text": [
      "20180201\n"
     ]
    },
    {
     "name": "stderr",
     "output_type": "stream",
     "text": [
      " 75%|███████▌  | 548/730 [00:25<00:12, 14.17it/s]"
     ]
    },
    {
     "name": "stdout",
     "output_type": "stream",
     "text": [
      "20181115\n"
     ]
    },
    {
     "name": "stderr",
     "output_type": "stream",
     "text": [
      " 75%|███████▌  | 550/730 [00:25<00:15, 11.68it/s]"
     ]
    },
    {
     "name": "stdout",
     "output_type": "stream",
     "text": [
      "20180830\n",
      "20190404\n"
     ]
    },
    {
     "name": "stderr",
     "output_type": "stream",
     "text": [
      " 76%|███████▌  | 552/730 [00:26<00:25,  7.12it/s]"
     ]
    },
    {
     "name": "stdout",
     "output_type": "stream",
     "text": [
      "20190808\n"
     ]
    },
    {
     "name": "stderr",
     "output_type": "stream",
     "text": [
      " 76%|███████▋  | 558/730 [00:26<00:18,  9.38it/s]"
     ]
    },
    {
     "name": "stdout",
     "output_type": "stream",
     "text": [
      "20180607\n"
     ]
    },
    {
     "name": "stderr",
     "output_type": "stream",
     "text": [
      " 78%|███████▊  | 566/730 [00:27<00:12, 12.71it/s]"
     ]
    },
    {
     "name": "stdout",
     "output_type": "stream",
     "text": [
      "20190801\n"
     ]
    },
    {
     "name": "stderr",
     "output_type": "stream",
     "text": [
      " 78%|███████▊  | 568/730 [00:27<00:15, 10.76it/s]"
     ]
    },
    {
     "name": "stdout",
     "output_type": "stream",
     "text": [
      "20180809\n"
     ]
    },
    {
     "name": "stderr",
     "output_type": "stream",
     "text": [
      " 78%|███████▊  | 570/730 [00:27<00:17,  9.23it/s]"
     ]
    },
    {
     "name": "stdout",
     "output_type": "stream",
     "text": [
      "20190606\n"
     ]
    },
    {
     "name": "stderr",
     "output_type": "stream",
     "text": [
      " 79%|███████▉  | 577/730 [00:28<00:12, 12.14it/s]"
     ]
    },
    {
     "name": "stdout",
     "output_type": "stream",
     "text": [
      "20181122\n"
     ]
    },
    {
     "name": "stderr",
     "output_type": "stream",
     "text": [
      " 79%|███████▉  | 579/730 [00:28<00:14, 10.26it/s]"
     ]
    },
    {
     "name": "stdout",
     "output_type": "stream",
     "text": [
      "20171102\n"
     ]
    },
    {
     "name": "stderr",
     "output_type": "stream",
     "text": [
      " 80%|████████  | 584/730 [00:29<00:12, 11.42it/s]"
     ]
    },
    {
     "name": "stdout",
     "output_type": "stream",
     "text": [
      "20180405\n"
     ]
    },
    {
     "name": "stderr",
     "output_type": "stream",
     "text": [
      " 81%|████████  | 593/730 [00:29<00:08, 15.52it/s]"
     ]
    },
    {
     "name": "stdout",
     "output_type": "stream",
     "text": [
      "20190207\n"
     ]
    },
    {
     "name": "stderr",
     "output_type": "stream",
     "text": [
      " 82%|████████▏ | 595/730 [00:29<00:10, 12.70it/s]"
     ]
    },
    {
     "name": "stdout",
     "output_type": "stream",
     "text": [
      "20190523\n"
     ]
    },
    {
     "name": "stderr",
     "output_type": "stream",
     "text": [
      " 82%|████████▏ | 597/730 [00:30<00:12, 10.36it/s]"
     ]
    },
    {
     "name": "stdout",
     "output_type": "stream",
     "text": [
      "20190711\n"
     ]
    },
    {
     "name": "stderr",
     "output_type": "stream",
     "text": [
      " 82%|████████▏ | 599/730 [00:30<00:15,  8.69it/s]"
     ]
    },
    {
     "name": "stdout",
     "output_type": "stream",
     "text": [
      "20171012\n"
     ]
    },
    {
     "name": "stderr",
     "output_type": "stream",
     "text": [
      " 82%|████████▏ | 602/730 [00:30<00:15,  8.39it/s]"
     ]
    },
    {
     "name": "stdout",
     "output_type": "stream",
     "text": [
      "20181004\n"
     ]
    },
    {
     "name": "stderr",
     "output_type": "stream",
     "text": [
      " 85%|████████▍ | 617/730 [00:31<00:06, 17.58it/s]"
     ]
    },
    {
     "name": "stdout",
     "output_type": "stream",
     "text": [
      "20180125\n"
     ]
    },
    {
     "name": "stderr",
     "output_type": "stream",
     "text": [
      " 86%|████████▋ | 630/730 [00:31<00:04, 23.09it/s]"
     ]
    },
    {
     "name": "stdout",
     "output_type": "stream",
     "text": [
      "20190718\n"
     ]
    },
    {
     "name": "stderr",
     "output_type": "stream",
     "text": [
      " 87%|████████▋ | 633/730 [00:32<00:05, 18.92it/s]"
     ]
    },
    {
     "name": "stdout",
     "output_type": "stream",
     "text": [
      "20190328\n"
     ]
    },
    {
     "name": "stderr",
     "output_type": "stream",
     "text": [
      " 87%|████████▋ | 637/730 [00:32<00:05, 16.52it/s]"
     ]
    },
    {
     "name": "stdout",
     "output_type": "stream",
     "text": [
      "20190926\n"
     ]
    },
    {
     "name": "stderr",
     "output_type": "stream",
     "text": [
      " 88%|████████▊ | 639/730 [00:32<00:06, 13.31it/s]"
     ]
    },
    {
     "name": "stdout",
     "output_type": "stream",
     "text": [
      "20190919\n"
     ]
    },
    {
     "name": "stderr",
     "output_type": "stream",
     "text": [
      " 88%|████████▊ | 641/730 [00:33<00:08, 11.03it/s]"
     ]
    },
    {
     "name": "stdout",
     "output_type": "stream",
     "text": [
      "20180524\n"
     ]
    },
    {
     "name": "stderr",
     "output_type": "stream",
     "text": [
      " 90%|████████▉ | 654/730 [00:33<00:04, 18.25it/s]"
     ]
    },
    {
     "name": "stdout",
     "output_type": "stream",
     "text": [
      "20190321\n"
     ]
    },
    {
     "name": "stderr",
     "output_type": "stream",
     "text": [
      " 90%|█████████ | 660/730 [00:33<00:03, 17.94it/s]"
     ]
    },
    {
     "name": "stdout",
     "output_type": "stream",
     "text": [
      "20171228\n"
     ]
    },
    {
     "name": "stderr",
     "output_type": "stream",
     "text": [
      " 91%|█████████▏| 667/730 [00:34<00:03, 18.51it/s]"
     ]
    },
    {
     "name": "stdout",
     "output_type": "stream",
     "text": [
      "20180927\n"
     ]
    },
    {
     "name": "stderr",
     "output_type": "stream",
     "text": [
      " 92%|█████████▏| 671/730 [00:34<00:03, 16.16it/s]"
     ]
    },
    {
     "name": "stdout",
     "output_type": "stream",
     "text": [
      "20180329\n"
     ]
    },
    {
     "name": "stderr",
     "output_type": "stream",
     "text": [
      " 92%|█████████▏| 673/730 [00:34<00:04, 12.94it/s]"
     ]
    },
    {
     "name": "stdout",
     "output_type": "stream",
     "text": [
      "20180920\n"
     ]
    },
    {
     "name": "stderr",
     "output_type": "stream",
     "text": [
      " 94%|█████████▎| 684/730 [00:35<00:02, 18.12it/s]"
     ]
    },
    {
     "name": "stdout",
     "output_type": "stream",
     "text": [
      "20181206\n"
     ]
    },
    {
     "name": "stderr",
     "output_type": "stream",
     "text": [
      " 96%|█████████▌| 699/730 [00:35<00:01, 25.42it/s]"
     ]
    },
    {
     "name": "stdout",
     "output_type": "stream",
     "text": [
      "20171221\n"
     ]
    },
    {
     "name": "stderr",
     "output_type": "stream",
     "text": [
      " 96%|█████████▋| 704/730 [00:35<00:01, 22.29it/s]"
     ]
    },
    {
     "name": "stdout",
     "output_type": "stream",
     "text": [
      "20180719\n"
     ]
    },
    {
     "name": "stderr",
     "output_type": "stream",
     "text": [
      " 99%|█████████▉| 723/730 [00:36<00:00, 31.90it/s]"
     ]
    },
    {
     "name": "stdout",
     "output_type": "stream",
     "text": [
      "20180726\n"
     ]
    },
    {
     "name": "stderr",
     "output_type": "stream",
     "text": [
      "100%|█████████▉| 727/730 [00:36<00:00, 25.46it/s]"
     ]
    },
    {
     "name": "stdout",
     "output_type": "stream",
     "text": [
      "20190124\n"
     ]
    },
    {
     "name": "stderr",
     "output_type": "stream",
     "text": [
      "100%|██████████| 730/730 [00:37<00:00, 19.72it/s]\n"
     ]
    }
   ],
   "source": [
    "import xarray as xr\n",
    "import os\n",
    "import datetime\n",
    "import numpy as np\n",
    "import sys\n",
    "import re\n",
    "from tqdm import tqdm\n",
    "from datetime import datetime, timedelta\n",
    "import pandas as pd\n",
    "# Define the base paths where the folders are located\n",
    "base_path1 = '/Users/geo-ms86336/Downloads/gefsv12.us/'\n",
    "base_path2 = '/Users/geo-ms86336/Downloads/noaa_aorc/'\n",
    "\n",
    "ds_gefs = xr.open_dataset('/Users/geo-ms86336/Downloads/gefsv12.us/20171221/25/GEFSv12.25_2017122100.grb2',filter_by_keys={'dataType': 'pf'}).tp\n",
    "ds_aorc = xr.open_mfdataset(base_path2+'*.nc').compute()\n",
    "ds_aorc['time'] = ds_aorc['time'].dt.date\n",
    "\n",
    "\n",
    "datasets = []\n",
    "\n",
    "import os\n",
    "\n",
    "directory_path = \"/Users/geo-ms86336/Downloads/gefsv12.us/\"\n",
    "\n",
    "for folder_name in tqdm(os.listdir(directory_path)):\n",
    "    folder_path = os.path.join(directory_path, folder_name)\n",
    "    # print(folder_name)\n",
    "    yyyy = folder_name[:4]\n",
    "    mm = folder_name[4:6]\n",
    "    #print(folder_name)\n",
    "    date_object = datetime.strptime(str(folder_name), '%Y%m%d')\n",
    "    is_thursday = date_object.weekday() == 3\n",
    "    if is_thursday:\n",
    "        \n",
    "        if os.path.isdir(folder_path):\n",
    "            #print(folder_name)\n",
    "            #print(directory+folder_name+'/25/GEFSv12.25_'+folder_name+'00.grb2')\n",
    "            file_path = directory+folder_name+'/25/GEFSv12.25_'+folder_name+'00.grb2'\n",
    "            ds_gefs = xr.open_dataset(file_path,filter_by_keys={'dataType': 'pf'}).tp.coarsen(step=4).sum().to_dataset()\n",
    "            ds_gefs_cf = xr.open_dataset(file_path,filter_by_keys={'dataType': 'cf'}).tp.coarsen(step=4).sum().to_dataset()\n",
    "            file_path_aorc = base_path2+'/pr_noaa_aorc_'+yyyy+'_'+mm+'.nc'\n",
    "            start_date = date_object + timedelta(days=1)\n",
    "            end_date = start_date + timedelta(days=9)\n",
    "            # print(file_path)\n",
    "            # print(file_path_aorc)\n",
    "            # print(ds_gefs.coarsen(step=4).sum())\n",
    "            # print(start_date, end_date)\n",
    "            date_range_pd = pd.date_range(start=start_date, end=end_date, freq='D')\n",
    "            ds_aorc_gefs = ds_aorc.sel(time=date_range_pd)\n",
    "            ds_gefs_cf = ds_gefs_cf.expand_dims(number=1)\n",
    "            ds_gefs_cf['number'] = np.arange(1) \n",
    "            ds_gefs = xr.concat([ds_gefs_cf, ds_gefs], dim='number')\n",
    "            ds_gefs['tp_aorc'] = (('step', 'latitude', 'longitude'), ds_aorc_gefs.APCP_surface.values)\n",
    "\n",
    "            # ds_gefs['tp_gefs_cf'] = (('step', 'latitude', 'longitude'), ds_gefs_cf.tp.values)\n",
    "            #print(ds_gefs)\n",
    "            #ds_gefs.to_netcdf(file_path[:-3]+'gefs_aorc.nc')\n",
    "            ds_combined = xr.concat(datasets, dim='time')\n",
    "            #break\n",
    "            datasets.append(ds_gefs)\n",
    "ds_combined = xr.concat(datasets, dim='time')\n",
    "ds_combined.to_netcdf('tp_gefs_aorc.nc')"
   ]
  },
  {
   "cell_type": "code",
   "execution_count": 73,
   "metadata": {},
   "outputs": [],
   "source": [
    "ds_combined = xr.concat(datasets, dim='time')"
   ]
  },
  {
   "cell_type": "code",
   "execution_count": 74,
   "metadata": {},
   "outputs": [
    {
     "data": {
      "text/html": [
       "<div><svg style=\"position: absolute; width: 0; height: 0; overflow: hidden\">\n",
       "<defs>\n",
       "<symbol id=\"icon-database\" viewBox=\"0 0 32 32\">\n",
       "<path d=\"M16 0c-8.837 0-16 2.239-16 5v4c0 2.761 7.163 5 16 5s16-2.239 16-5v-4c0-2.761-7.163-5-16-5z\"></path>\n",
       "<path d=\"M16 17c-8.837 0-16-2.239-16-5v6c0 2.761 7.163 5 16 5s16-2.239 16-5v-6c0 2.761-7.163 5-16 5z\"></path>\n",
       "<path d=\"M16 26c-8.837 0-16-2.239-16-5v6c0 2.761 7.163 5 16 5s16-2.239 16-5v-6c0 2.761-7.163 5-16 5z\"></path>\n",
       "</symbol>\n",
       "<symbol id=\"icon-file-text2\" viewBox=\"0 0 32 32\">\n",
       "<path d=\"M28.681 7.159c-0.694-0.947-1.662-2.053-2.724-3.116s-2.169-2.030-3.116-2.724c-1.612-1.182-2.393-1.319-2.841-1.319h-15.5c-1.378 0-2.5 1.121-2.5 2.5v27c0 1.378 1.122 2.5 2.5 2.5h23c1.378 0 2.5-1.122 2.5-2.5v-19.5c0-0.448-0.137-1.23-1.319-2.841zM24.543 5.457c0.959 0.959 1.712 1.825 2.268 2.543h-4.811v-4.811c0.718 0.556 1.584 1.309 2.543 2.268zM28 29.5c0 0.271-0.229 0.5-0.5 0.5h-23c-0.271 0-0.5-0.229-0.5-0.5v-27c0-0.271 0.229-0.5 0.5-0.5 0 0 15.499-0 15.5 0v7c0 0.552 0.448 1 1 1h7v19.5z\"></path>\n",
       "<path d=\"M23 26h-14c-0.552 0-1-0.448-1-1s0.448-1 1-1h14c0.552 0 1 0.448 1 1s-0.448 1-1 1z\"></path>\n",
       "<path d=\"M23 22h-14c-0.552 0-1-0.448-1-1s0.448-1 1-1h14c0.552 0 1 0.448 1 1s-0.448 1-1 1z\"></path>\n",
       "<path d=\"M23 18h-14c-0.552 0-1-0.448-1-1s0.448-1 1-1h14c0.552 0 1 0.448 1 1s-0.448 1-1 1z\"></path>\n",
       "</symbol>\n",
       "</defs>\n",
       "</svg>\n",
       "<style>/* CSS stylesheet for displaying xarray objects in jupyterlab.\n",
       " *\n",
       " */\n",
       "\n",
       ":root {\n",
       "  --xr-font-color0: var(--jp-content-font-color0, rgba(0, 0, 0, 1));\n",
       "  --xr-font-color2: var(--jp-content-font-color2, rgba(0, 0, 0, 0.54));\n",
       "  --xr-font-color3: var(--jp-content-font-color3, rgba(0, 0, 0, 0.38));\n",
       "  --xr-border-color: var(--jp-border-color2, #e0e0e0);\n",
       "  --xr-disabled-color: var(--jp-layout-color3, #bdbdbd);\n",
       "  --xr-background-color: var(--jp-layout-color0, white);\n",
       "  --xr-background-color-row-even: var(--jp-layout-color1, white);\n",
       "  --xr-background-color-row-odd: var(--jp-layout-color2, #eeeeee);\n",
       "}\n",
       "\n",
       "html[theme=dark],\n",
       "body[data-theme=dark],\n",
       "body.vscode-dark {\n",
       "  --xr-font-color0: rgba(255, 255, 255, 1);\n",
       "  --xr-font-color2: rgba(255, 255, 255, 0.54);\n",
       "  --xr-font-color3: rgba(255, 255, 255, 0.38);\n",
       "  --xr-border-color: #1F1F1F;\n",
       "  --xr-disabled-color: #515151;\n",
       "  --xr-background-color: #111111;\n",
       "  --xr-background-color-row-even: #111111;\n",
       "  --xr-background-color-row-odd: #313131;\n",
       "}\n",
       "\n",
       ".xr-wrap {\n",
       "  display: block !important;\n",
       "  min-width: 300px;\n",
       "  max-width: 700px;\n",
       "}\n",
       "\n",
       ".xr-text-repr-fallback {\n",
       "  /* fallback to plain text repr when CSS is not injected (untrusted notebook) */\n",
       "  display: none;\n",
       "}\n",
       "\n",
       ".xr-header {\n",
       "  padding-top: 6px;\n",
       "  padding-bottom: 6px;\n",
       "  margin-bottom: 4px;\n",
       "  border-bottom: solid 1px var(--xr-border-color);\n",
       "}\n",
       "\n",
       ".xr-header > div,\n",
       ".xr-header > ul {\n",
       "  display: inline;\n",
       "  margin-top: 0;\n",
       "  margin-bottom: 0;\n",
       "}\n",
       "\n",
       ".xr-obj-type,\n",
       ".xr-array-name {\n",
       "  margin-left: 2px;\n",
       "  margin-right: 10px;\n",
       "}\n",
       "\n",
       ".xr-obj-type {\n",
       "  color: var(--xr-font-color2);\n",
       "}\n",
       "\n",
       ".xr-sections {\n",
       "  padding-left: 0 !important;\n",
       "  display: grid;\n",
       "  grid-template-columns: 150px auto auto 1fr 20px 20px;\n",
       "}\n",
       "\n",
       ".xr-section-item {\n",
       "  display: contents;\n",
       "}\n",
       "\n",
       ".xr-section-item input {\n",
       "  display: none;\n",
       "}\n",
       "\n",
       ".xr-section-item input + label {\n",
       "  color: var(--xr-disabled-color);\n",
       "}\n",
       "\n",
       ".xr-section-item input:enabled + label {\n",
       "  cursor: pointer;\n",
       "  color: var(--xr-font-color2);\n",
       "}\n",
       "\n",
       ".xr-section-item input:enabled + label:hover {\n",
       "  color: var(--xr-font-color0);\n",
       "}\n",
       "\n",
       ".xr-section-summary {\n",
       "  grid-column: 1;\n",
       "  color: var(--xr-font-color2);\n",
       "  font-weight: 500;\n",
       "}\n",
       "\n",
       ".xr-section-summary > span {\n",
       "  display: inline-block;\n",
       "  padding-left: 0.5em;\n",
       "}\n",
       "\n",
       ".xr-section-summary-in:disabled + label {\n",
       "  color: var(--xr-font-color2);\n",
       "}\n",
       "\n",
       ".xr-section-summary-in + label:before {\n",
       "  display: inline-block;\n",
       "  content: '►';\n",
       "  font-size: 11px;\n",
       "  width: 15px;\n",
       "  text-align: center;\n",
       "}\n",
       "\n",
       ".xr-section-summary-in:disabled + label:before {\n",
       "  color: var(--xr-disabled-color);\n",
       "}\n",
       "\n",
       ".xr-section-summary-in:checked + label:before {\n",
       "  content: '▼';\n",
       "}\n",
       "\n",
       ".xr-section-summary-in:checked + label > span {\n",
       "  display: none;\n",
       "}\n",
       "\n",
       ".xr-section-summary,\n",
       ".xr-section-inline-details {\n",
       "  padding-top: 4px;\n",
       "  padding-bottom: 4px;\n",
       "}\n",
       "\n",
       ".xr-section-inline-details {\n",
       "  grid-column: 2 / -1;\n",
       "}\n",
       "\n",
       ".xr-section-details {\n",
       "  display: none;\n",
       "  grid-column: 1 / -1;\n",
       "  margin-bottom: 5px;\n",
       "}\n",
       "\n",
       ".xr-section-summary-in:checked ~ .xr-section-details {\n",
       "  display: contents;\n",
       "}\n",
       "\n",
       ".xr-array-wrap {\n",
       "  grid-column: 1 / -1;\n",
       "  display: grid;\n",
       "  grid-template-columns: 20px auto;\n",
       "}\n",
       "\n",
       ".xr-array-wrap > label {\n",
       "  grid-column: 1;\n",
       "  vertical-align: top;\n",
       "}\n",
       "\n",
       ".xr-preview {\n",
       "  color: var(--xr-font-color3);\n",
       "}\n",
       "\n",
       ".xr-array-preview,\n",
       ".xr-array-data {\n",
       "  padding: 0 5px !important;\n",
       "  grid-column: 2;\n",
       "}\n",
       "\n",
       ".xr-array-data,\n",
       ".xr-array-in:checked ~ .xr-array-preview {\n",
       "  display: none;\n",
       "}\n",
       "\n",
       ".xr-array-in:checked ~ .xr-array-data,\n",
       ".xr-array-preview {\n",
       "  display: inline-block;\n",
       "}\n",
       "\n",
       ".xr-dim-list {\n",
       "  display: inline-block !important;\n",
       "  list-style: none;\n",
       "  padding: 0 !important;\n",
       "  margin: 0;\n",
       "}\n",
       "\n",
       ".xr-dim-list li {\n",
       "  display: inline-block;\n",
       "  padding: 0;\n",
       "  margin: 0;\n",
       "}\n",
       "\n",
       ".xr-dim-list:before {\n",
       "  content: '(';\n",
       "}\n",
       "\n",
       ".xr-dim-list:after {\n",
       "  content: ')';\n",
       "}\n",
       "\n",
       ".xr-dim-list li:not(:last-child):after {\n",
       "  content: ',';\n",
       "  padding-right: 5px;\n",
       "}\n",
       "\n",
       ".xr-has-index {\n",
       "  font-weight: bold;\n",
       "}\n",
       "\n",
       ".xr-var-list,\n",
       ".xr-var-item {\n",
       "  display: contents;\n",
       "}\n",
       "\n",
       ".xr-var-item > div,\n",
       ".xr-var-item label,\n",
       ".xr-var-item > .xr-var-name span {\n",
       "  background-color: var(--xr-background-color-row-even);\n",
       "  margin-bottom: 0;\n",
       "}\n",
       "\n",
       ".xr-var-item > .xr-var-name:hover span {\n",
       "  padding-right: 5px;\n",
       "}\n",
       "\n",
       ".xr-var-list > li:nth-child(odd) > div,\n",
       ".xr-var-list > li:nth-child(odd) > label,\n",
       ".xr-var-list > li:nth-child(odd) > .xr-var-name span {\n",
       "  background-color: var(--xr-background-color-row-odd);\n",
       "}\n",
       "\n",
       ".xr-var-name {\n",
       "  grid-column: 1;\n",
       "}\n",
       "\n",
       ".xr-var-dims {\n",
       "  grid-column: 2;\n",
       "}\n",
       "\n",
       ".xr-var-dtype {\n",
       "  grid-column: 3;\n",
       "  text-align: right;\n",
       "  color: var(--xr-font-color2);\n",
       "}\n",
       "\n",
       ".xr-var-preview {\n",
       "  grid-column: 4;\n",
       "}\n",
       "\n",
       ".xr-index-preview {\n",
       "  grid-column: 2 / 5;\n",
       "  color: var(--xr-font-color2);\n",
       "}\n",
       "\n",
       ".xr-var-name,\n",
       ".xr-var-dims,\n",
       ".xr-var-dtype,\n",
       ".xr-preview,\n",
       ".xr-attrs dt {\n",
       "  white-space: nowrap;\n",
       "  overflow: hidden;\n",
       "  text-overflow: ellipsis;\n",
       "  padding-right: 10px;\n",
       "}\n",
       "\n",
       ".xr-var-name:hover,\n",
       ".xr-var-dims:hover,\n",
       ".xr-var-dtype:hover,\n",
       ".xr-attrs dt:hover {\n",
       "  overflow: visible;\n",
       "  width: auto;\n",
       "  z-index: 1;\n",
       "}\n",
       "\n",
       ".xr-var-attrs,\n",
       ".xr-var-data,\n",
       ".xr-index-data {\n",
       "  display: none;\n",
       "  background-color: var(--xr-background-color) !important;\n",
       "  padding-bottom: 5px !important;\n",
       "}\n",
       "\n",
       ".xr-var-attrs-in:checked ~ .xr-var-attrs,\n",
       ".xr-var-data-in:checked ~ .xr-var-data,\n",
       ".xr-index-data-in:checked ~ .xr-index-data {\n",
       "  display: block;\n",
       "}\n",
       "\n",
       ".xr-var-data > table {\n",
       "  float: right;\n",
       "}\n",
       "\n",
       ".xr-var-name span,\n",
       ".xr-var-data,\n",
       ".xr-index-name div,\n",
       ".xr-index-data,\n",
       ".xr-attrs {\n",
       "  padding-left: 25px !important;\n",
       "}\n",
       "\n",
       ".xr-attrs,\n",
       ".xr-var-attrs,\n",
       ".xr-var-data,\n",
       ".xr-index-data {\n",
       "  grid-column: 1 / -1;\n",
       "}\n",
       "\n",
       "dl.xr-attrs {\n",
       "  padding: 0;\n",
       "  margin: 0;\n",
       "  display: grid;\n",
       "  grid-template-columns: 125px auto;\n",
       "}\n",
       "\n",
       ".xr-attrs dt,\n",
       ".xr-attrs dd {\n",
       "  padding: 0;\n",
       "  margin: 0;\n",
       "  float: left;\n",
       "  padding-right: 10px;\n",
       "  width: auto;\n",
       "}\n",
       "\n",
       ".xr-attrs dt {\n",
       "  font-weight: normal;\n",
       "  grid-column: 1;\n",
       "}\n",
       "\n",
       ".xr-attrs dt:hover span {\n",
       "  display: inline-block;\n",
       "  background: var(--xr-background-color);\n",
       "  padding-right: 10px;\n",
       "}\n",
       "\n",
       ".xr-attrs dd {\n",
       "  grid-column: 2;\n",
       "  white-space: pre-wrap;\n",
       "  word-break: break-all;\n",
       "}\n",
       "\n",
       ".xr-icon-database,\n",
       ".xr-icon-file-text2,\n",
       ".xr-no-icon {\n",
       "  display: inline-block;\n",
       "  vertical-align: middle;\n",
       "  width: 1em;\n",
       "  height: 1.5em !important;\n",
       "  stroke-width: 0;\n",
       "  stroke: currentColor;\n",
       "  fill: currentColor;\n",
       "}\n",
       "</style><pre class='xr-text-repr-fallback'>&lt;xarray.Dataset&gt; Size: 3GB\n",
       "Dimensions:            (time: 104, number: 5, step: 10, latitude: 241,\n",
       "                        longitude: 441)\n",
       "Coordinates:\n",
       "  * number             (number) int64 40B 0 1 2 3 4\n",
       "  * time               (time) datetime64[ns] 832B 2017-12-07 ... 2019-01-24\n",
       "  * step               (step) timedelta64[ns] 80B 0 days 15:00:00 ... 9 days ...\n",
       "    surface            float64 8B 0.0\n",
       "  * latitude           (latitude) float64 2kB 15.0 15.25 15.5 ... 74.75 75.0\n",
       "  * longitude          (longitude) float64 4kB 190.0 190.2 190.5 ... 299.8 300.0\n",
       "    valid_time         (time, step) datetime64[ns] 8kB 2017-12-07T15:00:00 .....\n",
       "    heightAboveGround  float64 8B 2.0\n",
       "Data variables:\n",
       "    tp                 (time, number, step, latitude, longitude) float32 2GB ...\n",
       "    tp_aorc            (time, step, latitude, longitude) float64 884MB nan .....</pre><div class='xr-wrap' style='display:none'><div class='xr-header'><div class='xr-obj-type'>xarray.Dataset</div></div><ul class='xr-sections'><li class='xr-section-item'><input id='section-f1600815-70ed-48c3-a5ea-19f047cab460' class='xr-section-summary-in' type='checkbox' disabled ><label for='section-f1600815-70ed-48c3-a5ea-19f047cab460' class='xr-section-summary'  title='Expand/collapse section'>Dimensions:</label><div class='xr-section-inline-details'><ul class='xr-dim-list'><li><span class='xr-has-index'>time</span>: 104</li><li><span class='xr-has-index'>number</span>: 5</li><li><span class='xr-has-index'>step</span>: 10</li><li><span class='xr-has-index'>latitude</span>: 241</li><li><span class='xr-has-index'>longitude</span>: 441</li></ul></div><div class='xr-section-details'></div></li><li class='xr-section-item'><input id='section-3955e784-0886-4f59-abd2-5469ad0a4fd7' class='xr-section-summary-in' type='checkbox'  checked><label for='section-3955e784-0886-4f59-abd2-5469ad0a4fd7' class='xr-section-summary' >Coordinates: <span>(8)</span></label><div class='xr-section-inline-details'></div><div class='xr-section-details'><ul class='xr-var-list'><li class='xr-var-item'><div class='xr-var-name'><span class='xr-has-index'>number</span></div><div class='xr-var-dims'>(number)</div><div class='xr-var-dtype'>int64</div><div class='xr-var-preview xr-preview'>0 1 2 3 4</div><input id='attrs-404686db-0503-4ce5-a416-b14584681a49' class='xr-var-attrs-in' type='checkbox' disabled><label for='attrs-404686db-0503-4ce5-a416-b14584681a49' title='Show/Hide attributes'><svg class='icon xr-icon-file-text2'><use xlink:href='#icon-file-text2'></use></svg></label><input id='data-36961f3e-6011-4a4d-8e62-26c3daee7d9e' class='xr-var-data-in' type='checkbox'><label for='data-36961f3e-6011-4a4d-8e62-26c3daee7d9e' title='Show/Hide data repr'><svg class='icon xr-icon-database'><use xlink:href='#icon-database'></use></svg></label><div class='xr-var-attrs'><dl class='xr-attrs'></dl></div><div class='xr-var-data'><pre>array([0, 1, 2, 3, 4])</pre></div></li><li class='xr-var-item'><div class='xr-var-name'><span class='xr-has-index'>time</span></div><div class='xr-var-dims'>(time)</div><div class='xr-var-dtype'>datetime64[ns]</div><div class='xr-var-preview xr-preview'>2017-12-07 ... 2019-01-24</div><input id='attrs-0af1c33b-c2c0-4b9c-be52-1c2f87f366a9' class='xr-var-attrs-in' type='checkbox' ><label for='attrs-0af1c33b-c2c0-4b9c-be52-1c2f87f366a9' title='Show/Hide attributes'><svg class='icon xr-icon-file-text2'><use xlink:href='#icon-file-text2'></use></svg></label><input id='data-3887d6fc-75a6-4042-b99f-852cc4ef3c3d' class='xr-var-data-in' type='checkbox'><label for='data-3887d6fc-75a6-4042-b99f-852cc4ef3c3d' title='Show/Hide data repr'><svg class='icon xr-icon-database'><use xlink:href='#icon-database'></use></svg></label><div class='xr-var-attrs'><dl class='xr-attrs'><dt><span>long_name :</span></dt><dd>initial time of forecast</dd><dt><span>standard_name :</span></dt><dd>forecast_reference_time</dd></dl></div><div class='xr-var-data'><pre>array([&#x27;2017-12-07T00:00:00.000000000&#x27;, &#x27;2018-12-20T00:00:00.000000000&#x27;,\n",
       "       &#x27;2018-03-01T00:00:00.000000000&#x27;, &#x27;2018-12-27T00:00:00.000000000&#x27;,\n",
       "       &#x27;2018-09-06T00:00:00.000000000&#x27;, &#x27;2018-03-08T00:00:00.000000000&#x27;,\n",
       "       &#x27;2018-05-03T00:00:00.000000000&#x27;, &#x27;2018-10-25T00:00:00.000000000&#x27;,\n",
       "       &#x27;2017-10-05T00:00:00.000000000&#x27;, &#x27;2018-01-04T00:00:00.000000000&#x27;,\n",
       "       &#x27;2019-05-02T00:00:00.000000000&#x27;, &#x27;2019-03-07T00:00:00.000000000&#x27;,\n",
       "       &#x27;2019-01-03T00:00:00.000000000&#x27;, &#x27;2019-06-27T00:00:00.000000000&#x27;,\n",
       "       &#x27;2017-11-23T00:00:00.000000000&#x27;, &#x27;2019-06-20T00:00:00.000000000&#x27;,\n",
       "       &#x27;2019-02-21T00:00:00.000000000&#x27;, &#x27;2018-04-12T00:00:00.000000000&#x27;,\n",
       "       &#x27;2019-02-28T00:00:00.000000000&#x27;, &#x27;2018-08-16T00:00:00.000000000&#x27;,\n",
       "       &#x27;2019-04-25T00:00:00.000000000&#x27;, &#x27;2018-06-21T00:00:00.000000000&#x27;,\n",
       "       &#x27;2019-08-29T00:00:00.000000000&#x27;, &#x27;2018-06-28T00:00:00.000000000&#x27;,\n",
       "       &#x27;2018-08-02T00:00:00.000000000&#x27;, &#x27;2017-11-09T00:00:00.000000000&#x27;,\n",
       "       &#x27;2018-11-29T00:00:00.000000000&#x27;, &#x27;2017-11-30T00:00:00.000000000&#x27;,\n",
       "       &#x27;2019-03-14T00:00:00.000000000&#x27;, &#x27;2019-01-10T00:00:00.000000000&#x27;,\n",
       "       &#x27;2018-07-12T00:00:00.000000000&#x27;, &#x27;2019-01-17T00:00:00.000000000&#x27;,\n",
       "       &#x27;2018-03-22T00:00:00.000000000&#x27;, &#x27;2018-09-13T00:00:00.000000000&#x27;,\n",
       "       &#x27;2019-05-16T00:00:00.000000000&#x27;, &#x27;2019-09-12T00:00:00.000000000&#x27;,\n",
       "       &#x27;2018-05-17T00:00:00.000000000&#x27;, &#x27;2018-05-10T00:00:00.000000000&#x27;,\n",
       "       &#x27;2018-03-15T00:00:00.000000000&#x27;, &#x27;2017-10-19T00:00:00.000000000&#x27;,\n",
       "       &#x27;2019-07-25T00:00:00.000000000&#x27;, &#x27;2018-01-18T00:00:00.000000000&#x27;,\n",
       "       &#x27;2017-12-14T00:00:00.000000000&#x27;, &#x27;2017-10-26T00:00:00.000000000&#x27;,\n",
       "       &#x27;2018-01-11T00:00:00.000000000&#x27;, &#x27;2019-09-05T00:00:00.000000000&#x27;,\n",
       "       &#x27;2018-05-31T00:00:00.000000000&#x27;, &#x27;2018-10-11T00:00:00.000000000&#x27;,\n",
       "       &#x27;2018-10-18T00:00:00.000000000&#x27;, &#x27;2019-05-09T00:00:00.000000000&#x27;,\n",
       "       &#x27;2019-07-04T00:00:00.000000000&#x27;, &#x27;2019-01-31T00:00:00.000000000&#x27;,\n",
       "       &#x27;2018-07-05T00:00:00.000000000&#x27;, &#x27;2018-12-13T00:00:00.000000000&#x27;,\n",
       "       &#x27;2019-05-30T00:00:00.000000000&#x27;, &#x27;2019-02-14T00:00:00.000000000&#x27;,\n",
       "       &#x27;2019-08-22T00:00:00.000000000&#x27;, &#x27;2019-04-11T00:00:00.000000000&#x27;,\n",
       "       &#x27;2018-02-22T00:00:00.000000000&#x27;, &#x27;2017-11-16T00:00:00.000000000&#x27;,\n",
       "       &#x27;2019-04-18T00:00:00.000000000&#x27;, &#x27;2018-06-14T00:00:00.000000000&#x27;,\n",
       "       &#x27;2018-04-26T00:00:00.000000000&#x27;, &#x27;2019-08-15T00:00:00.000000000&#x27;,\n",
       "       &#x27;2018-04-19T00:00:00.000000000&#x27;, &#x27;2018-11-08T00:00:00.000000000&#x27;,\n",
       "       &#x27;2019-06-13T00:00:00.000000000&#x27;, &#x27;2018-02-15T00:00:00.000000000&#x27;,\n",
       "       &#x27;2018-11-01T00:00:00.000000000&#x27;, &#x27;2018-08-23T00:00:00.000000000&#x27;,\n",
       "       &#x27;2018-02-08T00:00:00.000000000&#x27;, &#x27;2018-02-01T00:00:00.000000000&#x27;,\n",
       "       &#x27;2018-11-15T00:00:00.000000000&#x27;, &#x27;2018-08-30T00:00:00.000000000&#x27;,\n",
       "       &#x27;2019-04-04T00:00:00.000000000&#x27;, &#x27;2019-08-08T00:00:00.000000000&#x27;,\n",
       "       &#x27;2018-06-07T00:00:00.000000000&#x27;, &#x27;2019-08-01T00:00:00.000000000&#x27;,\n",
       "       &#x27;2018-08-09T00:00:00.000000000&#x27;, &#x27;2019-06-06T00:00:00.000000000&#x27;,\n",
       "       &#x27;2018-11-22T00:00:00.000000000&#x27;, &#x27;2017-11-02T00:00:00.000000000&#x27;,\n",
       "       &#x27;2018-04-05T00:00:00.000000000&#x27;, &#x27;2019-02-07T00:00:00.000000000&#x27;,\n",
       "       &#x27;2019-05-23T00:00:00.000000000&#x27;, &#x27;2019-07-11T00:00:00.000000000&#x27;,\n",
       "       &#x27;2017-10-12T00:00:00.000000000&#x27;, &#x27;2018-10-04T00:00:00.000000000&#x27;,\n",
       "       &#x27;2018-01-25T00:00:00.000000000&#x27;, &#x27;2019-07-18T00:00:00.000000000&#x27;,\n",
       "       &#x27;2019-03-28T00:00:00.000000000&#x27;, &#x27;2019-09-26T00:00:00.000000000&#x27;,\n",
       "       &#x27;2019-09-19T00:00:00.000000000&#x27;, &#x27;2018-05-24T00:00:00.000000000&#x27;,\n",
       "       &#x27;2019-03-21T00:00:00.000000000&#x27;, &#x27;2017-12-28T00:00:00.000000000&#x27;,\n",
       "       &#x27;2018-09-27T00:00:00.000000000&#x27;, &#x27;2018-03-29T00:00:00.000000000&#x27;,\n",
       "       &#x27;2018-09-20T00:00:00.000000000&#x27;, &#x27;2018-12-06T00:00:00.000000000&#x27;,\n",
       "       &#x27;2017-12-21T00:00:00.000000000&#x27;, &#x27;2018-07-19T00:00:00.000000000&#x27;,\n",
       "       &#x27;2018-07-26T00:00:00.000000000&#x27;, &#x27;2019-01-24T00:00:00.000000000&#x27;],\n",
       "      dtype=&#x27;datetime64[ns]&#x27;)</pre></div></li><li class='xr-var-item'><div class='xr-var-name'><span class='xr-has-index'>step</span></div><div class='xr-var-dims'>(step)</div><div class='xr-var-dtype'>timedelta64[ns]</div><div class='xr-var-preview xr-preview'>0 days 15:00:00 ... 9 days 15:00:00</div><input id='attrs-0056833d-9e58-49d4-84dc-e294344ee1f1' class='xr-var-attrs-in' type='checkbox' ><label for='attrs-0056833d-9e58-49d4-84dc-e294344ee1f1' title='Show/Hide attributes'><svg class='icon xr-icon-file-text2'><use xlink:href='#icon-file-text2'></use></svg></label><input id='data-a1feff44-ec3f-430f-9564-2bda934945f1' class='xr-var-data-in' type='checkbox'><label for='data-a1feff44-ec3f-430f-9564-2bda934945f1' title='Show/Hide data repr'><svg class='icon xr-icon-database'><use xlink:href='#icon-database'></use></svg></label><div class='xr-var-attrs'><dl class='xr-attrs'><dt><span>long_name :</span></dt><dd>time since forecast_reference_time</dd><dt><span>standard_name :</span></dt><dd>forecast_period</dd></dl></div><div class='xr-var-data'><pre>array([ 54000000000000, 140400000000000, 226800000000000, 313200000000000,\n",
       "       399600000000000, 486000000000000, 572400000000000, 658800000000000,\n",
       "       745200000000000, 831600000000000], dtype=&#x27;timedelta64[ns]&#x27;)</pre></div></li><li class='xr-var-item'><div class='xr-var-name'><span>surface</span></div><div class='xr-var-dims'>()</div><div class='xr-var-dtype'>float64</div><div class='xr-var-preview xr-preview'>0.0</div><input id='attrs-66d4a1f1-6c96-4911-8f67-f7df3da49565' class='xr-var-attrs-in' type='checkbox' ><label for='attrs-66d4a1f1-6c96-4911-8f67-f7df3da49565' title='Show/Hide attributes'><svg class='icon xr-icon-file-text2'><use xlink:href='#icon-file-text2'></use></svg></label><input id='data-25f34539-4fc7-43d8-a448-bbb36884cdb4' class='xr-var-data-in' type='checkbox'><label for='data-25f34539-4fc7-43d8-a448-bbb36884cdb4' title='Show/Hide data repr'><svg class='icon xr-icon-database'><use xlink:href='#icon-database'></use></svg></label><div class='xr-var-attrs'><dl class='xr-attrs'><dt><span>long_name :</span></dt><dd>original GRIB coordinate for key: level(surface)</dd><dt><span>units :</span></dt><dd>1</dd></dl></div><div class='xr-var-data'><pre>array(0.)</pre></div></li><li class='xr-var-item'><div class='xr-var-name'><span class='xr-has-index'>latitude</span></div><div class='xr-var-dims'>(latitude)</div><div class='xr-var-dtype'>float64</div><div class='xr-var-preview xr-preview'>15.0 15.25 15.5 ... 74.5 74.75 75.0</div><input id='attrs-cb6d3d7f-4fc2-4da4-830d-3dfd0f9d8009' class='xr-var-attrs-in' type='checkbox' ><label for='attrs-cb6d3d7f-4fc2-4da4-830d-3dfd0f9d8009' title='Show/Hide attributes'><svg class='icon xr-icon-file-text2'><use xlink:href='#icon-file-text2'></use></svg></label><input id='data-ad27cfb8-6c86-4959-ab67-f824d8c7a6d4' class='xr-var-data-in' type='checkbox'><label for='data-ad27cfb8-6c86-4959-ab67-f824d8c7a6d4' title='Show/Hide data repr'><svg class='icon xr-icon-database'><use xlink:href='#icon-database'></use></svg></label><div class='xr-var-attrs'><dl class='xr-attrs'><dt><span>units :</span></dt><dd>degrees_north</dd><dt><span>standard_name :</span></dt><dd>latitude</dd><dt><span>long_name :</span></dt><dd>latitude</dd></dl></div><div class='xr-var-data'><pre>array([15.  , 15.25, 15.5 , ..., 74.5 , 74.75, 75.  ])</pre></div></li><li class='xr-var-item'><div class='xr-var-name'><span class='xr-has-index'>longitude</span></div><div class='xr-var-dims'>(longitude)</div><div class='xr-var-dtype'>float64</div><div class='xr-var-preview xr-preview'>190.0 190.2 190.5 ... 299.8 300.0</div><input id='attrs-504c6156-c07a-4d06-8c0c-3e688d70e8c7' class='xr-var-attrs-in' type='checkbox' ><label for='attrs-504c6156-c07a-4d06-8c0c-3e688d70e8c7' title='Show/Hide attributes'><svg class='icon xr-icon-file-text2'><use xlink:href='#icon-file-text2'></use></svg></label><input id='data-3201e449-9ffd-4e81-906f-b57c7313ad6f' class='xr-var-data-in' type='checkbox'><label for='data-3201e449-9ffd-4e81-906f-b57c7313ad6f' title='Show/Hide data repr'><svg class='icon xr-icon-database'><use xlink:href='#icon-database'></use></svg></label><div class='xr-var-attrs'><dl class='xr-attrs'><dt><span>units :</span></dt><dd>degrees_east</dd><dt><span>standard_name :</span></dt><dd>longitude</dd><dt><span>long_name :</span></dt><dd>longitude</dd></dl></div><div class='xr-var-data'><pre>array([190.  , 190.25, 190.5 , ..., 299.5 , 299.75, 300.  ])</pre></div></li><li class='xr-var-item'><div class='xr-var-name'><span>valid_time</span></div><div class='xr-var-dims'>(time, step)</div><div class='xr-var-dtype'>datetime64[ns]</div><div class='xr-var-preview xr-preview'>2017-12-07T15:00:00 ... 2019-02-...</div><input id='attrs-acbdc085-d12d-4d61-8a8a-1bb56d6e1303' class='xr-var-attrs-in' type='checkbox' ><label for='attrs-acbdc085-d12d-4d61-8a8a-1bb56d6e1303' title='Show/Hide attributes'><svg class='icon xr-icon-file-text2'><use xlink:href='#icon-file-text2'></use></svg></label><input id='data-006aedc9-db85-4896-bc69-2c1893c13302' class='xr-var-data-in' type='checkbox'><label for='data-006aedc9-db85-4896-bc69-2c1893c13302' title='Show/Hide data repr'><svg class='icon xr-icon-database'><use xlink:href='#icon-database'></use></svg></label><div class='xr-var-attrs'><dl class='xr-attrs'><dt><span>standard_name :</span></dt><dd>time</dd><dt><span>long_name :</span></dt><dd>time</dd></dl></div><div class='xr-var-data'><pre>array([[&#x27;2017-12-07T15:00:00.000000000&#x27;, &#x27;2017-12-08T15:00:00.000000000&#x27;,\n",
       "        &#x27;2017-12-09T15:00:00.000000000&#x27;, ...,\n",
       "        &#x27;2017-12-14T15:00:00.000000000&#x27;, &#x27;2017-12-15T15:00:00.000000000&#x27;,\n",
       "        &#x27;2017-12-16T15:00:00.000000000&#x27;],\n",
       "       [&#x27;2018-12-20T15:00:00.000000000&#x27;, &#x27;2018-12-21T15:00:00.000000000&#x27;,\n",
       "        &#x27;2018-12-22T15:00:00.000000000&#x27;, ...,\n",
       "        &#x27;2018-12-27T15:00:00.000000000&#x27;, &#x27;2018-12-28T15:00:00.000000000&#x27;,\n",
       "        &#x27;2018-12-29T15:00:00.000000000&#x27;],\n",
       "       [&#x27;2018-03-01T15:00:00.000000000&#x27;, &#x27;2018-03-02T15:00:00.000000000&#x27;,\n",
       "        &#x27;2018-03-03T15:00:00.000000000&#x27;, ...,\n",
       "        &#x27;2018-03-08T15:00:00.000000000&#x27;, &#x27;2018-03-09T15:00:00.000000000&#x27;,\n",
       "        &#x27;2018-03-10T15:00:00.000000000&#x27;],\n",
       "       ...,\n",
       "       [&#x27;2018-07-19T15:00:00.000000000&#x27;, &#x27;2018-07-20T15:00:00.000000000&#x27;,\n",
       "        &#x27;2018-07-21T15:00:00.000000000&#x27;, ...,\n",
       "        &#x27;2018-07-26T15:00:00.000000000&#x27;, &#x27;2018-07-27T15:00:00.000000000&#x27;,\n",
       "        &#x27;2018-07-28T15:00:00.000000000&#x27;],\n",
       "       [&#x27;2018-07-26T15:00:00.000000000&#x27;, &#x27;2018-07-27T15:00:00.000000000&#x27;,\n",
       "        &#x27;2018-07-28T15:00:00.000000000&#x27;, ...,\n",
       "        &#x27;2018-08-02T15:00:00.000000000&#x27;, &#x27;2018-08-03T15:00:00.000000000&#x27;,\n",
       "        &#x27;2018-08-04T15:00:00.000000000&#x27;],\n",
       "       [&#x27;2019-01-24T15:00:00.000000000&#x27;, &#x27;2019-01-25T15:00:00.000000000&#x27;,\n",
       "        &#x27;2019-01-26T15:00:00.000000000&#x27;, ...,\n",
       "        &#x27;2019-01-31T15:00:00.000000000&#x27;, &#x27;2019-02-01T15:00:00.000000000&#x27;,\n",
       "        &#x27;2019-02-02T15:00:00.000000000&#x27;]], dtype=&#x27;datetime64[ns]&#x27;)</pre></div></li><li class='xr-var-item'><div class='xr-var-name'><span>heightAboveGround</span></div><div class='xr-var-dims'>()</div><div class='xr-var-dtype'>float64</div><div class='xr-var-preview xr-preview'>2.0</div><input id='attrs-3cff6687-3a6f-487d-ad76-f2f2bd5e62f7' class='xr-var-attrs-in' type='checkbox' ><label for='attrs-3cff6687-3a6f-487d-ad76-f2f2bd5e62f7' title='Show/Hide attributes'><svg class='icon xr-icon-file-text2'><use xlink:href='#icon-file-text2'></use></svg></label><input id='data-e515181e-6d36-40c6-9d9d-e5877d5bb238' class='xr-var-data-in' type='checkbox'><label for='data-e515181e-6d36-40c6-9d9d-e5877d5bb238' title='Show/Hide data repr'><svg class='icon xr-icon-database'><use xlink:href='#icon-database'></use></svg></label><div class='xr-var-attrs'><dl class='xr-attrs'><dt><span>long_name :</span></dt><dd>height above the surface</dd><dt><span>units :</span></dt><dd>m</dd><dt><span>positive :</span></dt><dd>up</dd><dt><span>standard_name :</span></dt><dd>height</dd></dl></div><div class='xr-var-data'><pre>array(2.)</pre></div></li></ul></div></li><li class='xr-section-item'><input id='section-3c529995-603f-49d6-87e1-db5cb7c6a314' class='xr-section-summary-in' type='checkbox'  checked><label for='section-3c529995-603f-49d6-87e1-db5cb7c6a314' class='xr-section-summary' >Data variables: <span>(2)</span></label><div class='xr-section-inline-details'></div><div class='xr-section-details'><ul class='xr-var-list'><li class='xr-var-item'><div class='xr-var-name'><span>tp</span></div><div class='xr-var-dims'>(time, number, step, latitude, longitude)</div><div class='xr-var-dtype'>float32</div><div class='xr-var-preview xr-preview'>1.23 1.26 1.37 1.33 ... 0.0 0.0 0.0</div><input id='attrs-e0b85b46-6093-49ff-811c-d48264ab1da0' class='xr-var-attrs-in' type='checkbox' ><label for='attrs-e0b85b46-6093-49ff-811c-d48264ab1da0' title='Show/Hide attributes'><svg class='icon xr-icon-file-text2'><use xlink:href='#icon-file-text2'></use></svg></label><input id='data-c3610fbc-b379-4561-af3f-6387002eb1f8' class='xr-var-data-in' type='checkbox'><label for='data-c3610fbc-b379-4561-af3f-6387002eb1f8' title='Show/Hide data repr'><svg class='icon xr-icon-database'><use xlink:href='#icon-database'></use></svg></label><div class='xr-var-attrs'><dl class='xr-attrs'><dt><span>GRIB_paramId :</span></dt><dd>228228</dd><dt><span>GRIB_dataType :</span></dt><dd>cf</dd><dt><span>GRIB_numberOfPoints :</span></dt><dd>106281</dd><dt><span>GRIB_typeOfLevel :</span></dt><dd>surface</dd><dt><span>GRIB_stepUnits :</span></dt><dd>1</dd><dt><span>GRIB_stepType :</span></dt><dd>accum</dd><dt><span>GRIB_gridType :</span></dt><dd>regular_ll</dd><dt><span>GRIB_NV :</span></dt><dd>0</dd><dt><span>GRIB_Nx :</span></dt><dd>441</dd><dt><span>GRIB_Ny :</span></dt><dd>241</dd><dt><span>GRIB_cfName :</span></dt><dd>unknown</dd><dt><span>GRIB_cfVarName :</span></dt><dd>tp</dd><dt><span>GRIB_gridDefinitionDescription :</span></dt><dd>Latitude/longitude. Also called equidistant cylindrical, or Plate Carree</dd><dt><span>GRIB_iDirectionIncrementInDegrees :</span></dt><dd>0.25</dd><dt><span>GRIB_iScansNegatively :</span></dt><dd>0</dd><dt><span>GRIB_jDirectionIncrementInDegrees :</span></dt><dd>0.25</dd><dt><span>GRIB_jPointsAreConsecutive :</span></dt><dd>0</dd><dt><span>GRIB_jScansPositively :</span></dt><dd>1</dd><dt><span>GRIB_latitudeOfFirstGridPointInDegrees :</span></dt><dd>15.0</dd><dt><span>GRIB_latitudeOfLastGridPointInDegrees :</span></dt><dd>75.0</dd><dt><span>GRIB_longitudeOfFirstGridPointInDegrees :</span></dt><dd>190.0</dd><dt><span>GRIB_longitudeOfLastGridPointInDegrees :</span></dt><dd>300.0</dd><dt><span>GRIB_missingValue :</span></dt><dd>3.4028234663852886e+38</dd><dt><span>GRIB_name :</span></dt><dd>Total Precipitation</dd><dt><span>GRIB_shortName :</span></dt><dd>tp</dd><dt><span>GRIB_totalNumber :</span></dt><dd>20</dd><dt><span>GRIB_units :</span></dt><dd>kg m**-2</dd><dt><span>long_name :</span></dt><dd>Total Precipitation</dd><dt><span>units :</span></dt><dd>kg m**-2</dd><dt><span>standard_name :</span></dt><dd>unknown</dd></dl></div><div class='xr-var-data'><pre>array([[[[[1.2300000e+00, 1.2600001e+00, 1.3700001e+00, ...,\n",
       "           6.8399997e+00, 6.8500004e+00, 7.8299999e+00],\n",
       "          [1.3600001e+00, 1.1799999e+00, 1.0700001e+00, ...,\n",
       "           6.5199995e+00, 7.4700003e+00, 8.1000004e+00],\n",
       "          [1.2200000e+00, 1.2000000e+00, 1.1900001e+00, ...,\n",
       "           6.8899999e+00, 7.3399997e+00, 7.5600004e+00],\n",
       "          ...,\n",
       "          [7.0000000e-02, 5.9999999e-02, 5.9999999e-02, ...,\n",
       "           5.4499998e+00, 5.5999999e+00, 5.9400001e+00],\n",
       "          [9.9999998e-03, 9.9999998e-03, 9.9999998e-03, ...,\n",
       "           5.4200001e+00, 5.6599998e+00, 5.7900000e+00],\n",
       "          [0.0000000e+00, 0.0000000e+00, 0.0000000e+00, ...,\n",
       "           4.9200001e+00, 4.9300003e+00, 5.1599998e+00]],\n",
       "\n",
       "         [[1.0500000e+00, 1.0599999e+00, 1.1600001e+00, ...,\n",
       "           1.1080000e+01, 8.3799992e+00, 6.7400002e+00],\n",
       "          [1.0300001e+00, 1.0500001e+00, 9.5999998e-01, ...,\n",
       "           7.2700000e+00, 5.7900000e+00, 5.3000002e+00],\n",
       "          [8.4000003e-01, 8.4000003e-01, 1.0200000e+00, ...,\n",
       "           4.4100003e+00, 4.1900001e+00, 4.6199999e+00],\n",
       "...\n",
       "          [0.0000000e+00, 0.0000000e+00, 0.0000000e+00, ...,\n",
       "           0.0000000e+00, 0.0000000e+00, 0.0000000e+00],\n",
       "          [0.0000000e+00, 0.0000000e+00, 0.0000000e+00, ...,\n",
       "           0.0000000e+00, 0.0000000e+00, 0.0000000e+00],\n",
       "          [0.0000000e+00, 0.0000000e+00, 0.0000000e+00, ...,\n",
       "           0.0000000e+00, 0.0000000e+00, 0.0000000e+00]],\n",
       "\n",
       "         [[2.4000001e+00, 2.5000000e+00, 2.5000000e+00, ...,\n",
       "           2.0000000e+00, 1.1000000e+00, 4.0000001e-01],\n",
       "          [2.0000000e+00, 2.2000000e+00, 2.5999999e+00, ...,\n",
       "           3.1000001e+00, 2.4000001e+00, 1.7000000e+00],\n",
       "          [1.5000000e+00, 1.5000000e+00, 1.9000001e+00, ...,\n",
       "           1.5999999e+00, 1.4000001e+00, 1.7000000e+00],\n",
       "          ...,\n",
       "          [0.0000000e+00, 0.0000000e+00, 0.0000000e+00, ...,\n",
       "           0.0000000e+00, 0.0000000e+00, 0.0000000e+00],\n",
       "          [0.0000000e+00, 0.0000000e+00, 0.0000000e+00, ...,\n",
       "           0.0000000e+00, 0.0000000e+00, 0.0000000e+00],\n",
       "          [0.0000000e+00, 0.0000000e+00, 0.0000000e+00, ...,\n",
       "           0.0000000e+00, 0.0000000e+00, 0.0000000e+00]]]]], dtype=float32)</pre></div></li><li class='xr-var-item'><div class='xr-var-name'><span>tp_aorc</span></div><div class='xr-var-dims'>(time, step, latitude, longitude)</div><div class='xr-var-dtype'>float64</div><div class='xr-var-preview xr-preview'>nan nan nan nan ... nan nan nan nan</div><input id='attrs-56f55a9b-3f11-4cc3-a462-7a24800e9856' class='xr-var-attrs-in' type='checkbox' disabled><label for='attrs-56f55a9b-3f11-4cc3-a462-7a24800e9856' title='Show/Hide attributes'><svg class='icon xr-icon-file-text2'><use xlink:href='#icon-file-text2'></use></svg></label><input id='data-f4f4a228-e4b1-4abe-9ad4-047e21052d7c' class='xr-var-data-in' type='checkbox'><label for='data-f4f4a228-e4b1-4abe-9ad4-047e21052d7c' title='Show/Hide data repr'><svg class='icon xr-icon-database'><use xlink:href='#icon-database'></use></svg></label><div class='xr-var-attrs'><dl class='xr-attrs'></dl></div><div class='xr-var-data'><pre>array([[[[nan, nan, nan, ..., nan, nan, nan],\n",
       "         [nan, nan, nan, ..., nan, nan, nan],\n",
       "         [nan, nan, nan, ..., nan, nan, nan],\n",
       "         ...,\n",
       "         [nan, nan, nan, ..., nan, nan, nan],\n",
       "         [nan, nan, nan, ..., nan, nan, nan],\n",
       "         [nan, nan, nan, ..., nan, nan, nan]],\n",
       "\n",
       "        [[nan, nan, nan, ..., nan, nan, nan],\n",
       "         [nan, nan, nan, ..., nan, nan, nan],\n",
       "         [nan, nan, nan, ..., nan, nan, nan],\n",
       "         ...,\n",
       "         [nan, nan, nan, ..., nan, nan, nan],\n",
       "         [nan, nan, nan, ..., nan, nan, nan],\n",
       "         [nan, nan, nan, ..., nan, nan, nan]],\n",
       "\n",
       "        [[nan, nan, nan, ..., nan, nan, nan],\n",
       "         [nan, nan, nan, ..., nan, nan, nan],\n",
       "         [nan, nan, nan, ..., nan, nan, nan],\n",
       "         ...,\n",
       "...\n",
       "         ...,\n",
       "         [nan, nan, nan, ..., nan, nan, nan],\n",
       "         [nan, nan, nan, ..., nan, nan, nan],\n",
       "         [nan, nan, nan, ..., nan, nan, nan]],\n",
       "\n",
       "        [[nan, nan, nan, ..., nan, nan, nan],\n",
       "         [nan, nan, nan, ..., nan, nan, nan],\n",
       "         [nan, nan, nan, ..., nan, nan, nan],\n",
       "         ...,\n",
       "         [nan, nan, nan, ..., nan, nan, nan],\n",
       "         [nan, nan, nan, ..., nan, nan, nan],\n",
       "         [nan, nan, nan, ..., nan, nan, nan]],\n",
       "\n",
       "        [[nan, nan, nan, ..., nan, nan, nan],\n",
       "         [nan, nan, nan, ..., nan, nan, nan],\n",
       "         [nan, nan, nan, ..., nan, nan, nan],\n",
       "         ...,\n",
       "         [nan, nan, nan, ..., nan, nan, nan],\n",
       "         [nan, nan, nan, ..., nan, nan, nan],\n",
       "         [nan, nan, nan, ..., nan, nan, nan]]]])</pre></div></li></ul></div></li><li class='xr-section-item'><input id='section-09f47ae2-043e-4842-bf11-964abaf2bac1' class='xr-section-summary-in' type='checkbox'  ><label for='section-09f47ae2-043e-4842-bf11-964abaf2bac1' class='xr-section-summary' >Indexes: <span>(5)</span></label><div class='xr-section-inline-details'></div><div class='xr-section-details'><ul class='xr-var-list'><li class='xr-var-item'><div class='xr-index-name'><div>number</div></div><div class='xr-index-preview'>PandasIndex</div><div></div><input id='index-80fc6043-b491-455f-bb26-364f4deacbf4' class='xr-index-data-in' type='checkbox'/><label for='index-80fc6043-b491-455f-bb26-364f4deacbf4' title='Show/Hide index repr'><svg class='icon xr-icon-database'><use xlink:href='#icon-database'></use></svg></label><div class='xr-index-data'><pre>PandasIndex(Index([0, 1, 2, 3, 4], dtype=&#x27;int64&#x27;, name=&#x27;number&#x27;))</pre></div></li><li class='xr-var-item'><div class='xr-index-name'><div>time</div></div><div class='xr-index-preview'>PandasIndex</div><div></div><input id='index-436e7485-a856-4503-b7ad-13b7cf428348' class='xr-index-data-in' type='checkbox'/><label for='index-436e7485-a856-4503-b7ad-13b7cf428348' title='Show/Hide index repr'><svg class='icon xr-icon-database'><use xlink:href='#icon-database'></use></svg></label><div class='xr-index-data'><pre>PandasIndex(DatetimeIndex([&#x27;2017-12-07&#x27;, &#x27;2018-12-20&#x27;, &#x27;2018-03-01&#x27;, &#x27;2018-12-27&#x27;,\n",
       "               &#x27;2018-09-06&#x27;, &#x27;2018-03-08&#x27;, &#x27;2018-05-03&#x27;, &#x27;2018-10-25&#x27;,\n",
       "               &#x27;2017-10-05&#x27;, &#x27;2018-01-04&#x27;,\n",
       "               ...\n",
       "               &#x27;2019-03-21&#x27;, &#x27;2017-12-28&#x27;, &#x27;2018-09-27&#x27;, &#x27;2018-03-29&#x27;,\n",
       "               &#x27;2018-09-20&#x27;, &#x27;2018-12-06&#x27;, &#x27;2017-12-21&#x27;, &#x27;2018-07-19&#x27;,\n",
       "               &#x27;2018-07-26&#x27;, &#x27;2019-01-24&#x27;],\n",
       "              dtype=&#x27;datetime64[ns]&#x27;, name=&#x27;time&#x27;, length=104, freq=None))</pre></div></li><li class='xr-var-item'><div class='xr-index-name'><div>step</div></div><div class='xr-index-preview'>PandasIndex</div><div></div><input id='index-a7ce7ddf-ae13-4734-8200-8bcf3eae8731' class='xr-index-data-in' type='checkbox'/><label for='index-a7ce7ddf-ae13-4734-8200-8bcf3eae8731' title='Show/Hide index repr'><svg class='icon xr-icon-database'><use xlink:href='#icon-database'></use></svg></label><div class='xr-index-data'><pre>PandasIndex(TimedeltaIndex([&#x27;0 days 15:00:00&#x27;, &#x27;1 days 15:00:00&#x27;, &#x27;2 days 15:00:00&#x27;,\n",
       "                &#x27;3 days 15:00:00&#x27;, &#x27;4 days 15:00:00&#x27;, &#x27;5 days 15:00:00&#x27;,\n",
       "                &#x27;6 days 15:00:00&#x27;, &#x27;7 days 15:00:00&#x27;, &#x27;8 days 15:00:00&#x27;,\n",
       "                &#x27;9 days 15:00:00&#x27;],\n",
       "               dtype=&#x27;timedelta64[ns]&#x27;, name=&#x27;step&#x27;, freq=None))</pre></div></li><li class='xr-var-item'><div class='xr-index-name'><div>latitude</div></div><div class='xr-index-preview'>PandasIndex</div><div></div><input id='index-a86eb069-03b3-420a-84bd-d148c4de5d80' class='xr-index-data-in' type='checkbox'/><label for='index-a86eb069-03b3-420a-84bd-d148c4de5d80' title='Show/Hide index repr'><svg class='icon xr-icon-database'><use xlink:href='#icon-database'></use></svg></label><div class='xr-index-data'><pre>PandasIndex(Index([ 15.0, 15.25,  15.5, 15.75,  16.0, 16.25,  16.5, 16.75,  17.0, 17.25,\n",
       "       ...\n",
       "       72.75,  73.0, 73.25,  73.5, 73.75,  74.0, 74.25,  74.5, 74.75,  75.0],\n",
       "      dtype=&#x27;float64&#x27;, name=&#x27;latitude&#x27;, length=241))</pre></div></li><li class='xr-var-item'><div class='xr-index-name'><div>longitude</div></div><div class='xr-index-preview'>PandasIndex</div><div></div><input id='index-a6ba6bfa-dd98-49e5-b5e7-60b9a42c9e5a' class='xr-index-data-in' type='checkbox'/><label for='index-a6ba6bfa-dd98-49e5-b5e7-60b9a42c9e5a' title='Show/Hide index repr'><svg class='icon xr-icon-database'><use xlink:href='#icon-database'></use></svg></label><div class='xr-index-data'><pre>PandasIndex(Index([ 190.0, 190.25,  190.5, 190.75,  191.0, 191.25,  191.5, 191.75,  192.0,\n",
       "       192.25,\n",
       "       ...\n",
       "       297.75,  298.0, 298.25,  298.5, 298.75,  299.0, 299.25,  299.5, 299.75,\n",
       "        300.0],\n",
       "      dtype=&#x27;float64&#x27;, name=&#x27;longitude&#x27;, length=441))</pre></div></li></ul></div></li><li class='xr-section-item'><input id='section-7cd6e69d-0b10-49cc-8828-1334b715384c' class='xr-section-summary-in' type='checkbox' disabled ><label for='section-7cd6e69d-0b10-49cc-8828-1334b715384c' class='xr-section-summary'  title='Expand/collapse section'>Attributes: <span>(0)</span></label><div class='xr-section-inline-details'></div><div class='xr-section-details'><dl class='xr-attrs'></dl></div></li></ul></div></div>"
      ],
      "text/plain": [
       "<xarray.Dataset> Size: 3GB\n",
       "Dimensions:            (time: 104, number: 5, step: 10, latitude: 241,\n",
       "                        longitude: 441)\n",
       "Coordinates:\n",
       "  * number             (number) int64 40B 0 1 2 3 4\n",
       "  * time               (time) datetime64[ns] 832B 2017-12-07 ... 2019-01-24\n",
       "  * step               (step) timedelta64[ns] 80B 0 days 15:00:00 ... 9 days ...\n",
       "    surface            float64 8B 0.0\n",
       "  * latitude           (latitude) float64 2kB 15.0 15.25 15.5 ... 74.75 75.0\n",
       "  * longitude          (longitude) float64 4kB 190.0 190.2 190.5 ... 299.8 300.0\n",
       "    valid_time         (time, step) datetime64[ns] 8kB 2017-12-07T15:00:00 .....\n",
       "    heightAboveGround  float64 8B 2.0\n",
       "Data variables:\n",
       "    tp                 (time, number, step, latitude, longitude) float32 2GB ...\n",
       "    tp_aorc            (time, step, latitude, longitude) float64 884MB nan ....."
      ]
     },
     "execution_count": 74,
     "metadata": {},
     "output_type": "execute_result"
    }
   ],
   "source": [
    "ds_combined"
   ]
  },
  {
   "cell_type": "code",
   "execution_count": null,
   "metadata": {},
   "outputs": [],
   "source": []
  }
 ],
 "metadata": {
  "kernelspec": {
   "display_name": "modis2lst",
   "language": "python",
   "name": "python3"
  },
  "language_info": {
   "codemirror_mode": {
    "name": "ipython",
    "version": 3
   },
   "file_extension": ".py",
   "mimetype": "text/x-python",
   "name": "python",
   "nbconvert_exporter": "python",
   "pygments_lexer": "ipython3",
   "version": "3.12.4"
  }
 },
 "nbformat": 4,
 "nbformat_minor": 2
}
